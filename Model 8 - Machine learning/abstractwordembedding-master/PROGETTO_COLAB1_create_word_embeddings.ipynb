{
  "nbformat": 4,
  "nbformat_minor": 0,
  "metadata": {
    "kernelspec": {
      "display_name": "Python 3",
      "language": "python",
      "name": "python3"
    },
    "language_info": {
      "codemirror_mode": {
        "name": "ipython",
        "version": 3
      },
      "file_extension": ".py",
      "mimetype": "text/x-python",
      "name": "python",
      "nbconvert_exporter": "python",
      "pygments_lexer": "ipython3",
      "version": "3.7.4"
    },
    "toc": {
      "base_numbering": 1,
      "nav_menu": {},
      "number_sections": true,
      "sideBar": true,
      "skip_h1_title": false,
      "title_cell": "Table of Contents",
      "title_sidebar": "Contents",
      "toc_cell": false,
      "toc_position": {
        "height": "calc(100% - 180px)",
        "left": "10px",
        "top": "150px",
        "width": "238.475px"
      },
      "toc_section_display": true,
      "toc_window_display": true
    },
    "colab": {
      "name": "PROGETTO_COLAB1_create_word_embeddings.ipynb",
      "provenance": [],
      "collapsed_sections": [],
      "toc_visible": true
    }
  },
  "cells": [
    {
      "cell_type": "markdown",
      "metadata": {
        "id": "kRRKo8vvZsT6"
      },
      "source": [
        "### Import your corpus"
      ]
    },
    {
      "cell_type": "markdown",
      "metadata": {
        "id": "4-Z0PUIXZsT-"
      },
      "source": [
        "Wikidata is a collaboratively edited knowledgebase provides a common source of data for Wikipedia.\n",
        "We use a slice of 500k documents of the 2008 dump"
      ]
    },
    {
      "cell_type": "code",
      "metadata": {
        "id": "NVRQhPngZsUD",
        "colab": {
          "base_uri": "https://localhost:8080/"
        },
        "outputId": "7786982f-a0ae-49fd-cddd-ea75c6a7abbe"
      },
      "source": [
        "# Install PyDrive\n",
        "!pip install PyDrive\n",
        "!pip install pandas\n",
        "import pandas as pd\n",
        "#Import modules\n",
        "from pydrive.auth import GoogleAuth\n",
        "from pydrive.drive import GoogleDrive\n",
        "from google.colab import auth\n",
        "from oauth2client.client import GoogleCredentials\n",
        "\n",
        "#Authenticate and create the PyDrive client\n",
        "auth.authenticate_user()\n",
        "gauth = GoogleAuth()\n",
        "gauth.credentials = GoogleCredentials.get_application_default()\n",
        "drive = GoogleDrive(gauth)\n",
        "\n",
        "#Get the Shareable link\n",
        "#Ex BIG : https://drive.google.com/file/d/1aWNJjMp9Ks-ponG8MLpHz6eRYS-gzA4i/view?usp=sharing\n",
        "#https://drive.google.com/file/d/1pk1ziKJEXs6lEXXIXrEDbVOuvipvpXIH/view?usp=sharing\n",
        "#https://drive.google.com/file/d/1Jyd_UZgrb45krkxZQndPA59HmC1PKzxG/view?usp=sharing\n",
        "\n",
        "#ORIGINALE\n",
        "#https://drive.google.com/file/d/1QEaoJiiCvakAo-zf79gjhK0Aw9GbsdvG/view?usp=sharing\n",
        "downloaded = drive.CreateFile({'id':\"1Jyd_UZgrb45krkxZQndPA59HmC1PKzxG\"})   \n",
        "downloaded.GetContentFile('abstract_cleaned.csv')       \n",
        "\n",
        "import pandas as pd\n",
        "\n",
        "df2 = pd.read_csv(\"abstract_cleaned.csv\",encoding  = \"UTF-8\")"
      ],
      "execution_count": 1,
      "outputs": [
        {
          "output_type": "stream",
          "text": [
            "Requirement already satisfied: PyDrive in /usr/local/lib/python3.6/dist-packages (1.3.1)\n",
            "Requirement already satisfied: oauth2client>=4.0.0 in /usr/local/lib/python3.6/dist-packages (from PyDrive) (4.1.3)\n",
            "Requirement already satisfied: google-api-python-client>=1.2 in /usr/local/lib/python3.6/dist-packages (from PyDrive) (1.7.12)\n",
            "Requirement already satisfied: PyYAML>=3.0 in /usr/local/lib/python3.6/dist-packages (from PyDrive) (3.13)\n",
            "Requirement already satisfied: rsa>=3.1.4 in /usr/local/lib/python3.6/dist-packages (from oauth2client>=4.0.0->PyDrive) (4.6)\n",
            "Requirement already satisfied: pyasn1>=0.1.7 in /usr/local/lib/python3.6/dist-packages (from oauth2client>=4.0.0->PyDrive) (0.4.8)\n",
            "Requirement already satisfied: pyasn1-modules>=0.0.5 in /usr/local/lib/python3.6/dist-packages (from oauth2client>=4.0.0->PyDrive) (0.2.8)\n",
            "Requirement already satisfied: httplib2>=0.9.1 in /usr/local/lib/python3.6/dist-packages (from oauth2client>=4.0.0->PyDrive) (0.17.4)\n",
            "Requirement already satisfied: six>=1.6.1 in /usr/local/lib/python3.6/dist-packages (from oauth2client>=4.0.0->PyDrive) (1.15.0)\n",
            "Requirement already satisfied: uritemplate<4dev,>=3.0.0 in /usr/local/lib/python3.6/dist-packages (from google-api-python-client>=1.2->PyDrive) (3.0.1)\n",
            "Requirement already satisfied: google-auth>=1.4.1 in /usr/local/lib/python3.6/dist-packages (from google-api-python-client>=1.2->PyDrive) (1.17.2)\n",
            "Requirement already satisfied: google-auth-httplib2>=0.0.3 in /usr/local/lib/python3.6/dist-packages (from google-api-python-client>=1.2->PyDrive) (0.0.4)\n",
            "Requirement already satisfied: cachetools<5.0,>=2.0.0 in /usr/local/lib/python3.6/dist-packages (from google-auth>=1.4.1->google-api-python-client>=1.2->PyDrive) (4.1.1)\n",
            "Requirement already satisfied: setuptools>=40.3.0 in /usr/local/lib/python3.6/dist-packages (from google-auth>=1.4.1->google-api-python-client>=1.2->PyDrive) (50.3.2)\n",
            "Requirement already satisfied: pandas in /usr/local/lib/python3.6/dist-packages (1.1.4)\n",
            "Requirement already satisfied: numpy>=1.15.4 in /usr/local/lib/python3.6/dist-packages (from pandas) (1.18.5)\n",
            "Requirement already satisfied: python-dateutil>=2.7.3 in /usr/local/lib/python3.6/dist-packages (from pandas) (2.8.1)\n",
            "Requirement already satisfied: pytz>=2017.2 in /usr/local/lib/python3.6/dist-packages (from pandas) (2018.9)\n",
            "Requirement already satisfied: six>=1.5 in /usr/local/lib/python3.6/dist-packages (from python-dateutil>=2.7.3->pandas) (1.15.0)\n"
          ],
          "name": "stdout"
        }
      ]
    },
    {
      "cell_type": "code",
      "metadata": {
        "id": "Q5iAzPSTsYHR"
      },
      "source": [
        "auth.authenticate_user()\n",
        "gauth = GoogleAuth()\n",
        "gauth.credentials = GoogleCredentials.get_application_default()\n",
        "drive = GoogleDrive(gauth)\n",
        "\n",
        "downloaded = drive.CreateFile({'id':\"1QEaoJiiCvakAo-zf79gjhK0Aw9GbsdvG\"})   \n",
        "downloaded.GetContentFile('PAPER2009_to2021.csv')  \n",
        "df_orig = pd.read_csv(\"PAPER2009_to2021.csv\",encoding  = \"UTF-8\")"
      ],
      "execution_count": 2,
      "outputs": []
    },
    {
      "cell_type": "code",
      "metadata": {
        "colab": {
          "base_uri": "https://localhost:8080/",
          "height": 424
        },
        "id": "RZL7OfEYMfEt",
        "outputId": "0911a27b-4b5b-4a2d-fb66-c0443f0eacf6"
      },
      "source": [
        "df2"
      ],
      "execution_count": 3,
      "outputs": [
        {
          "output_type": "execute_result",
          "data": {
            "text/html": [
              "<div>\n",
              "<style scoped>\n",
              "    .dataframe tbody tr th:only-of-type {\n",
              "        vertical-align: middle;\n",
              "    }\n",
              "\n",
              "    .dataframe tbody tr th {\n",
              "        vertical-align: top;\n",
              "    }\n",
              "\n",
              "    .dataframe thead th {\n",
              "        text-align: right;\n",
              "    }\n",
              "</style>\n",
              "<table border=\"1\" class=\"dataframe\">\n",
              "  <thead>\n",
              "    <tr style=\"text-align: right;\">\n",
              "      <th></th>\n",
              "      <th>year</th>\n",
              "      <th>abstract</th>\n",
              "    </tr>\n",
              "  </thead>\n",
              "  <tbody>\n",
              "    <tr>\n",
              "      <th>0</th>\n",
              "      <td>2014</td>\n",
              "      <td>visual,analytics,inherently,collaboration,huma...</td>\n",
              "    </tr>\n",
              "    <tr>\n",
              "      <th>1</th>\n",
              "      <td>2014</td>\n",
              "      <td>graph,presented,multi,class,classifier,often,c...</td>\n",
              "    </tr>\n",
              "    <tr>\n",
              "      <th>2</th>\n",
              "      <td>2014</td>\n",
              "      <td>present,fluxflow,interactive,visual,analysis,s...</td>\n",
              "    </tr>\n",
              "    <tr>\n",
              "      <th>3</th>\n",
              "      <td>2014</td>\n",
              "      <td>interactive,visualization,provides,valuable,su...</td>\n",
              "    </tr>\n",
              "    <tr>\n",
              "      <th>4</th>\n",
              "      <td>2014</td>\n",
              "      <td>micrornas,mirnas,family,non,coding,rna,approxi...</td>\n",
              "    </tr>\n",
              "    <tr>\n",
              "      <th>...</th>\n",
              "      <td>...</td>\n",
              "      <td>...</td>\n",
              "    </tr>\n",
              "    <tr>\n",
              "      <th>19919</th>\n",
              "      <td>2015</td>\n",
              "      <td>one,important,task,pattern,machine_learning,da...</td>\n",
              "    </tr>\n",
              "    <tr>\n",
              "      <th>19920</th>\n",
              "      <td>2015</td>\n",
              "      <td>computational,docking,core,process,computer,ai...</td>\n",
              "    </tr>\n",
              "    <tr>\n",
              "      <th>19921</th>\n",
              "      <td>2015</td>\n",
              "      <td>mobile,app,smartphones,tablet,document,pressur...</td>\n",
              "    </tr>\n",
              "    <tr>\n",
              "      <th>19922</th>\n",
              "      <td>2015</td>\n",
              "      <td>eye,disease,diabetic,retinopathy,may,cause,bli...</td>\n",
              "    </tr>\n",
              "    <tr>\n",
              "      <th>19923</th>\n",
              "      <td>2015</td>\n",
              "      <td>website,offering,daily,deal,offer,received,wid...</td>\n",
              "    </tr>\n",
              "  </tbody>\n",
              "</table>\n",
              "<p>19924 rows × 2 columns</p>\n",
              "</div>"
            ],
            "text/plain": [
              "       year                                           abstract\n",
              "0      2014  visual,analytics,inherently,collaboration,huma...\n",
              "1      2014  graph,presented,multi,class,classifier,often,c...\n",
              "2      2014  present,fluxflow,interactive,visual,analysis,s...\n",
              "3      2014  interactive,visualization,provides,valuable,su...\n",
              "4      2014  micrornas,mirnas,family,non,coding,rna,approxi...\n",
              "...     ...                                                ...\n",
              "19919  2015  one,important,task,pattern,machine_learning,da...\n",
              "19920  2015  computational,docking,core,process,computer,ai...\n",
              "19921  2015  mobile,app,smartphones,tablet,document,pressur...\n",
              "19922  2015  eye,disease,diabetic,retinopathy,may,cause,bli...\n",
              "19923  2015  website,offering,daily,deal,offer,received,wid...\n",
              "\n",
              "[19924 rows x 2 columns]"
            ]
          },
          "metadata": {
            "tags": []
          },
          "execution_count": 3
        }
      ]
    },
    {
      "cell_type": "code",
      "metadata": {
        "id": "l70auKD9t5w2"
      },
      "source": [
        "df2['Keywords'] = pd.Series(df_orig['Index Keywords'])"
      ],
      "execution_count": 4,
      "outputs": []
    },
    {
      "cell_type": "markdown",
      "metadata": {
        "id": "ZfXBXbsqZsUV"
      },
      "source": [
        "### Create embeddings"
      ]
    },
    {
      "cell_type": "code",
      "metadata": {
        "colab": {
          "base_uri": "https://localhost:8080/"
        },
        "id": "6aY_TiY66ADR",
        "outputId": "b3a1dbfa-b73a-4750-8f63-aeb54f0c0c1c"
      },
      "source": [
        "df2['Keywords'].count()"
      ],
      "execution_count": 5,
      "outputs": [
        {
          "output_type": "execute_result",
          "data": {
            "text/plain": [
              "16644"
            ]
          },
          "metadata": {
            "tags": []
          },
          "execution_count": 5
        }
      ]
    },
    {
      "cell_type": "code",
      "metadata": {
        "id": "CGWzPAVwU0VX"
      },
      "source": [
        "df2_not_na = df2[~(df2['Keywords'].isna())]"
      ],
      "execution_count": 6,
      "outputs": []
    },
    {
      "cell_type": "code",
      "metadata": {
        "colab": {
          "base_uri": "https://localhost:8080/"
        },
        "id": "Q485kY_GV4a3",
        "outputId": "ac72b631-3f76-4f0b-aa26-402fc26c3db5"
      },
      "source": [
        "df2_not_na['Keywords'].count()"
      ],
      "execution_count": 7,
      "outputs": [
        {
          "output_type": "execute_result",
          "data": {
            "text/plain": [
              "16644"
            ]
          },
          "metadata": {
            "tags": []
          },
          "execution_count": 7
        }
      ]
    },
    {
      "cell_type": "markdown",
      "metadata": {
        "id": "a-fAYa-PZsUX"
      },
      "source": [
        "#### DF processing for tf idf\n"
      ]
    },
    {
      "cell_type": "code",
      "metadata": {
        "id": "G5xTSQfV6KLi",
        "colab": {
          "base_uri": "https://localhost:8080/"
        },
        "outputId": "46b0c93b-64eb-47a4-db59-f34145b2c406"
      },
      "source": [
        "!pip install nltk\n",
        "!pip install tqdm\n",
        "from tqdm import tqdm\n",
        "from nltk.corpus import stopwords\n",
        "from nltk.stem import WordNetLemmatizer\n",
        "import nltk\n",
        "nltk.download('wordnet')\n",
        "nltk.download('stopwords')\n",
        "stopwords = stopwords.words('english')\n",
        "lemmatizer = WordNetLemmatizer()\n",
        "\n",
        "stopwords.extend(['present','however','springer','compared','better','online','education','experimental',\n",
        "                  'domain','several','many','right','important','applied','first','three','order','various'\n",
        "                  'advanced','neuroscience','forecasted','forecasting','support_vector_machinesvm','artificially'\n",
        "                  ,'disciplinary','contributing','innovative','forum','example','republicationredistribution','approach'\n",
        "                  ,'neighbour','deformable','dynamic','significantly','contributing','artificially'\n",
        "                  'artwork', 'architectural', 'architecture','suit','ieee','female','human','humans'\n",
        "                  'task', 'result', 'set', 'machine', 'analysis', 'paper', 'application', 'approach',\n",
        "                  'problem', 'set', 'vector', 'function', 'classification_','elsevier','use','user',\n",
        "                  'article','controlled_study','nan', 'of_information', 'classification_', 'human', \n",
        "                  'algorithms', 'algorithm','optimization', 'priority_journal', 'vectors', 'female', 'models',\n",
        "                  'benchmarking', 'diagnosis', 'procedures', 'also','task', 'result', 'set', 'machine',\n",
        "                  'analysis', 'paper', 'application', 'approach', 'problem', 'vector', 'function',\n",
        "                  'selection', 'kernel', 'using', 'based', 'used', 'time', 'new', 'study', 'two', 'one' ,\n",
        "                  'show' ,'image', 'data', 'system','model', 'method', 'feature', 'proposed', 'performance',\n",
        "                  'information', 'different','protein','toward','proactive','class','research',\n",
        "                  'computer','processing','artificial','process','pattern','real','multi','and',\n",
        "                  'well','large','work','number', \"framework\", \"number\", \"level\" \"space\",\"solution\",\"rule\", \"error\", \"structure\"])\n",
        "\n",
        "\n",
        "text_0 = df2_not_na['Keywords']\n",
        "df_tf_idf = text_0.str.split(\";\")\n",
        "df_tf_idf = df_tf_idf.apply(lambda x: [item.replace('[^\\w\\s]',' ')  for item  in x])\n",
        "df_tf_idf = df_tf_idf.apply(lambda x: [str(item).strip()   for item  in x])\n",
        "df_tf_idf = df_tf_idf.apply(lambda x: [str(item).replace(\",\", \"\")  for item  in x])\n",
        "df_tf_idf = df_tf_idf.apply(lambda x: [str(item).lower()  for item in x])\n",
        "df_tf_idf = df_tf_idf.apply(lambda x: [lemmatizer.lemmatize(item) for item in x])\n",
        "df_tf_idf = df_tf_idf.apply(lambda x: [item.replace(\"-\", \" \") for item in x ] )\n",
        "df_tf_idf = df_tf_idf.apply(lambda x: [item.replace(\" \", \"_\") for item in x ] )\n",
        "#df_tf_idf = df_tf_idf.apply(lambda x: [item for item in x if item not in stopwords] )\n",
        "\n",
        "keywords = []\n",
        "\n",
        "for row in df_tf_idf:\n",
        "    keywords.append(','.join([item for item in row if item not in stopwords]))"
      ],
      "execution_count": 8,
      "outputs": [
        {
          "output_type": "stream",
          "text": [
            "Requirement already satisfied: nltk in /usr/local/lib/python3.6/dist-packages (3.2.5)\n",
            "Requirement already satisfied: six in /usr/local/lib/python3.6/dist-packages (from nltk) (1.15.0)\n",
            "Requirement already satisfied: tqdm in /usr/local/lib/python3.6/dist-packages (4.41.1)\n",
            "[nltk_data] Downloading package wordnet to /root/nltk_data...\n",
            "[nltk_data]   Package wordnet is already up-to-date!\n",
            "[nltk_data] Downloading package stopwords to /root/nltk_data...\n",
            "[nltk_data]   Package stopwords is already up-to-date!\n"
          ],
          "name": "stdout"
        }
      ]
    },
    {
      "cell_type": "code",
      "metadata": {
        "id": "lmYif2SshGhs"
      },
      "source": [
        "abstract_0 = df2_not_na['abstract']\n",
        "abstract = abstract_0.apply(lambda x: x.split(\",\"))\n",
        "abstract = abstract.apply(lambda x: [item.replace('[^\\w\\s]',' ')  for item  in x])\n",
        "abstract = abstract.apply(lambda x: [item.strip()   for item  in x])\n",
        "abstract = abstract.apply(lambda x: [item.lower()  for item in x])\n",
        "abstract = abstract.apply(lambda x: [lemmatizer.lemmatize(item) for item in x])\n",
        "#abstract = abstract.apply(lambda x: [item for item in x if item not in stopwords] )\n",
        "\n",
        "\n",
        "abs = []\n",
        "for row in abstract:\n",
        "    abs.append(','.join([item for item in row if item not in stopwords]))"
      ],
      "execution_count": 9,
      "outputs": []
    },
    {
      "cell_type": "code",
      "metadata": {
        "colab": {
          "base_uri": "https://localhost:8080/"
        },
        "id": "do6vTyiVpMSt",
        "outputId": "d92cc23a-61b1-452e-8c6c-02545c58f551"
      },
      "source": [
        "df2_not_na['abstract'] = abs\n",
        "df2_not_na['Keywords'] = keywords"
      ],
      "execution_count": 10,
      "outputs": [
        {
          "output_type": "stream",
          "text": [
            "/usr/local/lib/python3.6/dist-packages/ipykernel_launcher.py:1: SettingWithCopyWarning: \n",
            "A value is trying to be set on a copy of a slice from a DataFrame.\n",
            "Try using .loc[row_indexer,col_indexer] = value instead\n",
            "\n",
            "See the caveats in the documentation: https://pandas.pydata.org/pandas-docs/stable/user_guide/indexing.html#returning-a-view-versus-a-copy\n",
            "  \"\"\"Entry point for launching an IPython kernel.\n",
            "/usr/local/lib/python3.6/dist-packages/ipykernel_launcher.py:2: SettingWithCopyWarning: \n",
            "A value is trying to be set on a copy of a slice from a DataFrame.\n",
            "Try using .loc[row_indexer,col_indexer] = value instead\n",
            "\n",
            "See the caveats in the documentation: https://pandas.pydata.org/pandas-docs/stable/user_guide/indexing.html#returning-a-view-versus-a-copy\n",
            "  \n"
          ],
          "name": "stderr"
        }
      ]
    },
    {
      "cell_type": "code",
      "metadata": {
        "colab": {
          "base_uri": "https://localhost:8080/"
        },
        "id": "WCgC0YudMNnX",
        "outputId": "e15fa382-fac1-4cb7-bc50-418ea067a6aa"
      },
      "source": [
        "abstract[0]"
      ],
      "execution_count": 11,
      "outputs": [
        {
          "output_type": "execute_result",
          "data": {
            "text/plain": [
              "['visual',\n",
              " 'analytics',\n",
              " 'inherently',\n",
              " 'collaboration',\n",
              " 'human',\n",
              " 'computer',\n",
              " 'however',\n",
              " 'current',\n",
              " 'visual',\n",
              " 'analytics',\n",
              " 'system',\n",
              " 'computer',\n",
              " 'limited',\n",
              " 'mean',\n",
              " 'knowing',\n",
              " 'user',\n",
              " 'analysis',\n",
              " 'process',\n",
              " 'existing',\n",
              " 'research',\n",
              " 'shown',\n",
              " 'user',\n",
              " 'interaction',\n",
              " 'system',\n",
              " 'reflect',\n",
              " 'large',\n",
              " 'amount',\n",
              " 'user',\n",
              " 'reasoning',\n",
              " 'process',\n",
              " 'limited',\n",
              " 'advancement',\n",
              " 'developing',\n",
              " 'automated',\n",
              " 'real',\n",
              " 'time',\n",
              " 'technique',\n",
              " 'mine',\n",
              " 'interaction',\n",
              " 'learn',\n",
              " 'user',\n",
              " 'paper',\n",
              " 'demonstrate',\n",
              " 'accurately',\n",
              " 'predict',\n",
              " 'user',\n",
              " 'task',\n",
              " 'performance',\n",
              " 'infer',\n",
              " 'user',\n",
              " 'personality',\n",
              " 'trait',\n",
              " 'using',\n",
              " 'machine_learning_techniques',\n",
              " 'analyze',\n",
              " 'interaction',\n",
              " 'data',\n",
              " 'specifically',\n",
              " 'conduct',\n",
              " 'experiment',\n",
              " 'participant',\n",
              " 'perform',\n",
              " 'visual',\n",
              " 'search',\n",
              " 'task',\n",
              " 'apply',\n",
              " 'well',\n",
              " 'known',\n",
              " 'machine_learning_algorithms',\n",
              " 'three',\n",
              " 'encoding',\n",
              " 'user',\n",
              " 'interaction',\n",
              " 'data',\n",
              " 'achieve',\n",
              " 'depending',\n",
              " 'algorithm',\n",
              " 'encoding',\n",
              " 'accuracy',\n",
              " 'predicting',\n",
              " 'whether',\n",
              " 'user',\n",
              " 'fast',\n",
              " 'slow',\n",
              " 'completing',\n",
              " 'task',\n",
              " 'beyond',\n",
              " 'predicting',\n",
              " 'performance',\n",
              " 'demonstrate',\n",
              " 'using',\n",
              " 'technique',\n",
              " 'infer',\n",
              " 'aspect',\n",
              " 'user',\n",
              " 'personality',\n",
              " 'factor',\n",
              " 'including',\n",
              " 'locus',\n",
              " 'control',\n",
              " 'extraversion',\n",
              " 'neuroticism',\n",
              " 'analysis',\n",
              " 'show',\n",
              " 'strong',\n",
              " 'result',\n",
              " 'attained',\n",
              " 'limited',\n",
              " 'observation',\n",
              " 'time',\n",
              " 'one',\n",
              " 'case',\n",
              " 'final',\n",
              " 'accuracy',\n",
              " 'gained',\n",
              " 'quarter',\n",
              " 'average',\n",
              " 'task',\n",
              " 'completion',\n",
              " 'time',\n",
              " 'overall',\n",
              " 'finding',\n",
              " 'show',\n",
              " 'interaction',\n",
              " 'provide',\n",
              " 'information',\n",
              " 'computer',\n",
              " 'human',\n",
              " 'collaborator',\n",
              " 'establish',\n",
              " 'foundation',\n",
              " 'realizing',\n",
              " 'mixed',\n",
              " 'initiative',\n",
              " 'visual',\n",
              " 'analytics',\n",
              " 'system',\n",
              " 'ieee']"
            ]
          },
          "metadata": {
            "tags": []
          },
          "execution_count": 11
        }
      ]
    },
    {
      "cell_type": "code",
      "metadata": {
        "colab": {
          "base_uri": "https://localhost:8080/",
          "height": 109
        },
        "id": "Sb704zBMMLPZ",
        "outputId": "604ed285-b8b0-4a72-9bae-ca061c282230"
      },
      "source": [
        "abs[0]"
      ],
      "execution_count": 12,
      "outputs": [
        {
          "output_type": "execute_result",
          "data": {
            "application/vnd.google.colaboratory.intrinsic+json": {
              "type": "string"
            },
            "text/plain": [
              "'visual,analytics,inherently,collaboration,current,visual,analytics,limited,mean,knowing,existing,shown,interaction,reflect,amount,reasoning,limited,advancement,developing,automated,technique,mine,interaction,learn,demonstrate,accurately,predict,infer,personality,trait,machine_learning_techniques,analyze,interaction,specifically,conduct,experiment,participant,perform,visual,search,apply,known,machine_learning_algorithms,encoding,interaction,achieve,depending,encoding,accuracy,predicting,whether,fast,slow,completing,beyond,predicting,demonstrate,technique,infer,aspect,personality,factor,including,locus,control,extraversion,neuroticism,strong,attained,limited,observation,case,final,accuracy,gained,quarter,average,completion,overall,finding,interaction,provide,collaborator,establish,foundation,realizing,mixed,initiative,visual,analytics'"
            ]
          },
          "metadata": {
            "tags": []
          },
          "execution_count": 12
        }
      ]
    },
    {
      "cell_type": "code",
      "metadata": {
        "colab": {
          "base_uri": "https://localhost:8080/",
          "height": 534
        },
        "id": "muJHrmLhza47",
        "outputId": "d48881f5-ecf6-4f6b-c113-e60b7d42e8a5"
      },
      "source": [
        "df2_not_na['text'] = df2_not_na['abstract'] + ',' + df2_not_na['Keywords']\n",
        "df2_not_na"
      ],
      "execution_count": 13,
      "outputs": [
        {
          "output_type": "stream",
          "text": [
            "/usr/local/lib/python3.6/dist-packages/ipykernel_launcher.py:1: SettingWithCopyWarning: \n",
            "A value is trying to be set on a copy of a slice from a DataFrame.\n",
            "Try using .loc[row_indexer,col_indexer] = value instead\n",
            "\n",
            "See the caveats in the documentation: https://pandas.pydata.org/pandas-docs/stable/user_guide/indexing.html#returning-a-view-versus-a-copy\n",
            "  \"\"\"Entry point for launching an IPython kernel.\n"
          ],
          "name": "stderr"
        },
        {
          "output_type": "execute_result",
          "data": {
            "text/html": [
              "<div>\n",
              "<style scoped>\n",
              "    .dataframe tbody tr th:only-of-type {\n",
              "        vertical-align: middle;\n",
              "    }\n",
              "\n",
              "    .dataframe tbody tr th {\n",
              "        vertical-align: top;\n",
              "    }\n",
              "\n",
              "    .dataframe thead th {\n",
              "        text-align: right;\n",
              "    }\n",
              "</style>\n",
              "<table border=\"1\" class=\"dataframe\">\n",
              "  <thead>\n",
              "    <tr style=\"text-align: right;\">\n",
              "      <th></th>\n",
              "      <th>year</th>\n",
              "      <th>abstract</th>\n",
              "      <th>Keywords</th>\n",
              "      <th>text</th>\n",
              "    </tr>\n",
              "  </thead>\n",
              "  <tbody>\n",
              "    <tr>\n",
              "      <th>0</th>\n",
              "      <td>2014</td>\n",
              "      <td>visual,analytics,inherently,collaboration,curr...</td>\n",
              "      <td>analytic_provenance,applied_machine_learning,u...</td>\n",
              "      <td>visual,analytics,inherently,collaboration,curr...</td>\n",
              "    </tr>\n",
              "    <tr>\n",
              "      <th>1</th>\n",
              "      <td>2014</td>\n",
              "      <td>graph,presented,classifier,often,compute,score...</td>\n",
              "      <td>confusion_analysis,feature_evaluation_and_sele...</td>\n",
              "      <td>graph,presented,classifier,often,compute,score...</td>\n",
              "    </tr>\n",
              "    <tr>\n",
              "      <th>2</th>\n",
              "      <td>2014</td>\n",
              "      <td>fluxflow,interactive,visual,revealing,analyzin...</td>\n",
              "      <td>anomaly_detection,information_visualization,re...</td>\n",
              "      <td>fluxflow,interactive,visual,revealing,analyzin...</td>\n",
              "    </tr>\n",
              "    <tr>\n",
              "      <th>3</th>\n",
              "      <td>2014</td>\n",
              "      <td>interactive,visualization,provides,valuable,su...</td>\n",
              "      <td>distant_readings,document_analysis,literary_an...</td>\n",
              "      <td>interactive,visualization,provides,valuable,su...</td>\n",
              "    </tr>\n",
              "    <tr>\n",
              "      <th>4</th>\n",
              "      <td>2014</td>\n",
              "      <td>micrornas,mirnas,family,non,coding,rna,approxi...</td>\n",
              "      <td>amino_acids,artificial_intelligence,feature_ex...</td>\n",
              "      <td>micrornas,mirnas,family,non,coding,rna,approxi...</td>\n",
              "    </tr>\n",
              "    <tr>\n",
              "      <th>...</th>\n",
              "      <td>...</td>\n",
              "      <td>...</td>\n",
              "      <td>...</td>\n",
              "      <td>...</td>\n",
              "    </tr>\n",
              "    <tr>\n",
              "      <th>19918</th>\n",
              "      <td>2015</td>\n",
              "      <td>medium,sharing,flickr,panoramio,contain,amount...</td>\n",
              "      <td>event_retrieval,query_expansion,social_media,s...</td>\n",
              "      <td>medium,sharing,flickr,panoramio,contain,amount...</td>\n",
              "    </tr>\n",
              "    <tr>\n",
              "      <th>19919</th>\n",
              "      <td>2015</td>\n",
              "      <td>machine_learning,data_mining,classification,in...</td>\n",
              "      <td>artificial_intelligence,clustering_algorithms,...</td>\n",
              "      <td>machine_learning,data_mining,classification,in...</td>\n",
              "    </tr>\n",
              "    <tr>\n",
              "      <th>19920</th>\n",
              "      <td>2015</td>\n",
              "      <td>computational,docking,core,aided,drug,design,c...</td>\n",
              "      <td>artificial_intelligence,binder,binding_energy,...</td>\n",
              "      <td>computational,docking,core,aided,drug,design,c...</td>\n",
              "    </tr>\n",
              "    <tr>\n",
              "      <th>19921</th>\n",
              "      <td>2015</td>\n",
              "      <td>mobile,app,smartphones,tablet,document,pressur...</td>\n",
              "      <td>artificial_intelligence,camera,color,expert_sy...</td>\n",
              "      <td>mobile,app,smartphones,tablet,document,pressur...</td>\n",
              "    </tr>\n",
              "    <tr>\n",
              "      <th>19923</th>\n",
              "      <td>2015</td>\n",
              "      <td>website,offering,daily,deal,offer,received,wid...</td>\n",
              "      <td>artificial_intelligence,image_segmentation,inf...</td>\n",
              "      <td>website,offering,daily,deal,offer,received,wid...</td>\n",
              "    </tr>\n",
              "  </tbody>\n",
              "</table>\n",
              "<p>16644 rows × 4 columns</p>\n",
              "</div>"
            ],
            "text/plain": [
              "       year  ...                                               text\n",
              "0      2014  ...  visual,analytics,inherently,collaboration,curr...\n",
              "1      2014  ...  graph,presented,classifier,often,compute,score...\n",
              "2      2014  ...  fluxflow,interactive,visual,revealing,analyzin...\n",
              "3      2014  ...  interactive,visualization,provides,valuable,su...\n",
              "4      2014  ...  micrornas,mirnas,family,non,coding,rna,approxi...\n",
              "...     ...  ...                                                ...\n",
              "19918  2015  ...  medium,sharing,flickr,panoramio,contain,amount...\n",
              "19919  2015  ...  machine_learning,data_mining,classification,in...\n",
              "19920  2015  ...  computational,docking,core,aided,drug,design,c...\n",
              "19921  2015  ...  mobile,app,smartphones,tablet,document,pressur...\n",
              "19923  2015  ...  website,offering,daily,deal,offer,received,wid...\n",
              "\n",
              "[16644 rows x 4 columns]"
            ]
          },
          "metadata": {
            "tags": []
          },
          "execution_count": 13
        }
      ]
    },
    {
      "cell_type": "code",
      "metadata": {
        "id": "ELDEiC0WS1ee"
      },
      "source": [
        "#from gensim.models.phrases import Phrases\n",
        "#bigram = Phrases(df_tf_idf, min_count=3, threshold=0.2)\n"
      ],
      "execution_count": 14,
      "outputs": []
    },
    {
      "cell_type": "code",
      "metadata": {
        "id": "v15AMpe0T-nm"
      },
      "source": [
        "#print(bigram[df_tf_idf[5]])"
      ],
      "execution_count": 15,
      "outputs": []
    },
    {
      "cell_type": "code",
      "metadata": {
        "id": "xWTs1ISES1S_"
      },
      "source": [
        "#bigrams = [bigram[item] for item in df_tf_idf] \n",
        "#ngrams = [bigram[item] for item in bigrams] "
      ],
      "execution_count": 16,
      "outputs": []
    },
    {
      "cell_type": "code",
      "metadata": {
        "colab": {
          "base_uri": "https://localhost:8080/",
          "height": 36
        },
        "id": "IElioAytUn8c",
        "outputId": "a17c7a7a-1cff-4d4c-c443-ad664b43df6d"
      },
      "source": [
        "\"\"\"\n",
        "corpus = []\n",
        "for row in ngrams:\n",
        "    corpus.append(' '.join([item for item in row if item not in stopwords]))\n",
        "\"\"\""
      ],
      "execution_count": 17,
      "outputs": [
        {
          "output_type": "execute_result",
          "data": {
            "application/vnd.google.colaboratory.intrinsic+json": {
              "type": "string"
            },
            "text/plain": [
              "\"\\ncorpus = []\\nfor row in ngrams:\\n    corpus.append(' '.join([item for item in row if item not in stopwords]))\\n\""
            ]
          },
          "metadata": {
            "tags": []
          },
          "execution_count": 17
        }
      ]
    },
    {
      "cell_type": "markdown",
      "metadata": {
        "id": "WC3YJ_9P1HgO"
      },
      "source": [
        "corpus[0]"
      ]
    },
    {
      "cell_type": "code",
      "metadata": {
        "id": "jYhMqsuzcHbf",
        "colab": {
          "base_uri": "https://localhost:8080/",
          "height": 36
        },
        "outputId": "f232da35-a382-43dc-fae6-902c6e3ae333"
      },
      "source": [
        "\"\"\"\n",
        "corpus_txt = []\n",
        "for item in corpus:\n",
        "  corpus_txt.append(item.replace(\",\", \" \"))\n",
        "  \"\"\""
      ],
      "execution_count": 18,
      "outputs": [
        {
          "output_type": "execute_result",
          "data": {
            "application/vnd.google.colaboratory.intrinsic+json": {
              "type": "string"
            },
            "text/plain": [
              "'\\ncorpus_txt = []\\nfor item in corpus:\\n  corpus_txt.append(item.replace(\",\", \" \"))\\n  '"
            ]
          },
          "metadata": {
            "tags": []
          },
          "execution_count": 18
        }
      ]
    },
    {
      "cell_type": "code",
      "metadata": {
        "id": "QMfmTFdE825_"
      },
      "source": [
        "text = df2_not_na['text']\n",
        "\n"
      ],
      "execution_count": 19,
      "outputs": []
    },
    {
      "cell_type": "code",
      "metadata": {
        "colab": {
          "base_uri": "https://localhost:8080/"
        },
        "id": "S45I9E2C80B-",
        "outputId": "97fbf912-3957-4831-9a9f-4017135575ae"
      },
      "source": [
        "!pip install spacy\n",
        "import spacy\n",
        "import re\n",
        "import tqdm\n",
        "\n",
        "nlp = spacy.load('en_core_web_sm') #you can use other methods\n",
        "# excluded tags\n",
        "excluded_tags = {\"VERB\",\"ADJ\",\"ADV\", \"ADP\", \"PROPN\",\"CCONJ\",\"DET\"}\n",
        "document = [line.strip() for line in text]\n",
        "\n",
        "sentences = document[:] \n",
        "new_sentences = []\n",
        "for sentence in sentences:\n",
        "  new_sentence = []\n",
        "  sentence.replace(\",\", \" \")\n",
        "  for token in nlp(sentence):\n",
        "      if token.pos_ not in excluded_tags:\n",
        "          new_sentence.append(token.text)\n",
        "  new_sentence = re.sub(\",,+\", \",\", \"\".join(new_sentence))\n",
        "  new_sentence = new_sentence.strip(\",\")\n",
        "  new_sentences.append(new_sentence)"
      ],
      "execution_count": 20,
      "outputs": [
        {
          "output_type": "stream",
          "text": [
            "Requirement already satisfied: spacy in /usr/local/lib/python3.6/dist-packages (2.2.4)\n",
            "Requirement already satisfied: numpy>=1.15.0 in /usr/local/lib/python3.6/dist-packages (from spacy) (1.18.5)\n",
            "Requirement already satisfied: murmurhash<1.1.0,>=0.28.0 in /usr/local/lib/python3.6/dist-packages (from spacy) (1.0.4)\n",
            "Requirement already satisfied: cymem<2.1.0,>=2.0.2 in /usr/local/lib/python3.6/dist-packages (from spacy) (2.0.4)\n",
            "Requirement already satisfied: wasabi<1.1.0,>=0.4.0 in /usr/local/lib/python3.6/dist-packages (from spacy) (0.8.0)\n",
            "Requirement already satisfied: catalogue<1.1.0,>=0.0.7 in /usr/local/lib/python3.6/dist-packages (from spacy) (1.0.0)\n",
            "Requirement already satisfied: setuptools in /usr/local/lib/python3.6/dist-packages (from spacy) (50.3.2)\n",
            "Requirement already satisfied: requests<3.0.0,>=2.13.0 in /usr/local/lib/python3.6/dist-packages (from spacy) (2.23.0)\n",
            "Requirement already satisfied: thinc==7.4.0 in /usr/local/lib/python3.6/dist-packages (from spacy) (7.4.0)\n",
            "Requirement already satisfied: plac<1.2.0,>=0.9.6 in /usr/local/lib/python3.6/dist-packages (from spacy) (1.1.3)\n",
            "Requirement already satisfied: blis<0.5.0,>=0.4.0 in /usr/local/lib/python3.6/dist-packages (from spacy) (0.4.1)\n",
            "Requirement already satisfied: preshed<3.1.0,>=3.0.2 in /usr/local/lib/python3.6/dist-packages (from spacy) (3.0.4)\n",
            "Requirement already satisfied: tqdm<5.0.0,>=4.38.0 in /usr/local/lib/python3.6/dist-packages (from spacy) (4.41.1)\n",
            "Requirement already satisfied: srsly<1.1.0,>=1.0.2 in /usr/local/lib/python3.6/dist-packages (from spacy) (1.0.4)\n",
            "Requirement already satisfied: importlib-metadata>=0.20; python_version < \"3.8\" in /usr/local/lib/python3.6/dist-packages (from catalogue<1.1.0,>=0.0.7->spacy) (2.0.0)\n",
            "Requirement already satisfied: idna<3,>=2.5 in /usr/local/lib/python3.6/dist-packages (from requests<3.0.0,>=2.13.0->spacy) (2.10)\n",
            "Requirement already satisfied: chardet<4,>=3.0.2 in /usr/local/lib/python3.6/dist-packages (from requests<3.0.0,>=2.13.0->spacy) (3.0.4)\n",
            "Requirement already satisfied: certifi>=2017.4.17 in /usr/local/lib/python3.6/dist-packages (from requests<3.0.0,>=2.13.0->spacy) (2020.11.8)\n",
            "Requirement already satisfied: urllib3!=1.25.0,!=1.25.1,<1.26,>=1.21.1 in /usr/local/lib/python3.6/dist-packages (from requests<3.0.0,>=2.13.0->spacy) (1.24.3)\n",
            "Requirement already satisfied: zipp>=0.5 in /usr/local/lib/python3.6/dist-packages (from importlib-metadata>=0.20; python_version < \"3.8\"->catalogue<1.1.0,>=0.0.7->spacy) (3.4.0)\n"
          ],
          "name": "stdout"
        }
      ]
    },
    {
      "cell_type": "code",
      "metadata": {
        "colab": {
          "base_uri": "https://localhost:8080/",
          "height": 128
        },
        "id": "tPhRjg8zRb1F",
        "outputId": "cceab1b3-98ca-4c3a-818f-bc435084a61a"
      },
      "source": [
        "sentences[0]"
      ],
      "execution_count": 21,
      "outputs": [
        {
          "output_type": "execute_result",
          "data": {
            "application/vnd.google.colaboratory.intrinsic+json": {
              "type": "string"
            },
            "text/plain": [
              "'visual,analytics,inherently,collaboration,current,visual,analytics,limited,mean,knowing,existing,shown,interaction,reflect,amount,reasoning,limited,advancement,developing,automated,technique,mine,interaction,learn,demonstrate,accurately,predict,infer,personality,trait,machine_learning_techniques,analyze,interaction,specifically,conduct,experiment,participant,perform,visual,search,apply,known,machine_learning_algorithms,encoding,interaction,achieve,depending,encoding,accuracy,predicting,whether,fast,slow,completing,beyond,predicting,demonstrate,technique,infer,aspect,personality,factor,including,locus,control,extraversion,neuroticism,strong,attained,limited,observation,case,final,accuracy,gained,quarter,average,completion,overall,finding,interaction,provide,collaborator,establish,foundation,realizing,mixed,initiative,visual,analytics,analytic_provenance,applied_machine_learning,user_interaction,flow_visualization,adolescent,adult,computer_graphics,computer_interface,decision_making,image_processing,machine_learning,middle_aged,personality,task_performance,young_adult,adolescent,adult,computer_graphics,decision_making,image_processing_computer_assisted,machine_learning,middle_aged,personality,task_performance_and_analysis,user_computer_interface,young_adult'"
            ]
          },
          "metadata": {
            "tags": []
          },
          "execution_count": 21
        }
      ]
    },
    {
      "cell_type": "code",
      "metadata": {
        "colab": {
          "base_uri": "https://localhost:8080/",
          "height": 91
        },
        "id": "eJ2Br5C1DoTM",
        "outputId": "1e819072-2075-4cf9-b8ee-092fcb667d5d"
      },
      "source": [
        "new_sentences[0]"
      ],
      "execution_count": 22,
      "outputs": [
        {
          "output_type": "execute_result",
          "data": {
            "application/vnd.google.colaboratory.intrinsic+json": {
              "type": "string"
            },
            "text/plain": [
              "'analytics,collaboration,analytics,interaction,reflect,amount,reasoning,advancement,technique,mine,interaction,infer,personality,trait,machine_learning_techniques,analyze,interaction,conduct,experiment,participant,search,machine_learning_algorithms,encoding,interaction,encoding,accuracy,whether,demonstrate,technique,infer,aspect,personality,factor,locus,control,extraversion,neuroticism,observation,case,accuracy,quarter,average,completion,finding,interaction,collaborator,establish,foundation,realizing,initiative,analytics,analytic_provenance,flow_visualization,adult,computer_graphics,personality,adult,computer_graphics,personality,task_performance_and_analysis,user_computer_interface'"
            ]
          },
          "metadata": {
            "tags": []
          },
          "execution_count": 22
        }
      ]
    },
    {
      "cell_type": "code",
      "metadata": {
        "id": "ea1FWpHTClld"
      },
      "source": [
        "\n",
        "    "
      ],
      "execution_count": 22,
      "outputs": []
    },
    {
      "cell_type": "code",
      "metadata": {
        "colab": {
          "base_uri": "https://localhost:8080/"
        },
        "id": "z7-JVPjwt7pM",
        "outputId": "bfa0ed46-bc47-4053-964d-05011185ab77"
      },
      "source": [
        "type(new_sentences)"
      ],
      "execution_count": 23,
      "outputs": [
        {
          "output_type": "execute_result",
          "data": {
            "text/plain": [
              "list"
            ]
          },
          "metadata": {
            "tags": []
          },
          "execution_count": 23
        }
      ]
    },
    {
      "cell_type": "code",
      "metadata": {
        "colab": {
          "base_uri": "https://localhost:8080/"
        },
        "id": "2QA-DgPqSTsD",
        "outputId": "44e7ed21-87b5-4261-8bfc-e823ff5969a9"
      },
      "source": [
        "corpus = []\n",
        "for row in new_sentences:\n",
        "    corpus.append(row.replace(\",\", \" \"))\n",
        "df2_not_na[\"abstract_spacy\"] = corpus"
      ],
      "execution_count": 24,
      "outputs": [
        {
          "output_type": "stream",
          "text": [
            "/usr/local/lib/python3.6/dist-packages/ipykernel_launcher.py:8: SettingWithCopyWarning: \n",
            "A value is trying to be set on a copy of a slice from a DataFrame.\n",
            "Try using .loc[row_indexer,col_indexer] = value instead\n",
            "\n",
            "See the caveats in the documentation: https://pandas.pydata.org/pandas-docs/stable/user_guide/indexing.html#returning-a-view-versus-a-copy\n",
            "  \n"
          ],
          "name": "stderr"
        }
      ]
    },
    {
      "cell_type": "code",
      "metadata": {
        "colab": {
          "base_uri": "https://localhost:8080/"
        },
        "id": "aCfhmE6mjMct",
        "outputId": "c8db106c-dd8a-45c9-fb1b-c9f5593b2de9"
      },
      "source": [
        "from gensim.models.phrases import Phrases\n",
        "bigram = Phrases(corpus, min_count=3, threshold=0.2)\n",
        "bigrams = [bigram[item] for item in df_tf_idf] \n",
        "ngrams = [bigram[item] for item in bigrams] \n",
        "ngrams_ = [\",\".join(item) for item in ngrams]"
      ],
      "execution_count": 51,
      "outputs": [
        {
          "output_type": "stream",
          "text": [
            "/usr/local/lib/python3.6/dist-packages/gensim/models/phrases.py:598: UserWarning: For a faster implementation, use the gensim.models.phrases.Phraser class\n",
            "  warnings.warn(\"For a faster implementation, use the gensim.models.phrases.Phraser class\")\n"
          ],
          "name": "stderr"
        }
      ]
    },
    {
      "cell_type": "code",
      "metadata": {
        "id": "uEj7ohIPzv-A"
      },
      "source": [
        "from sklearn.feature_extraction.text import TfidfVectorizer\n",
        "tfidf = TfidfVectorizer(max_features=1000, stop_words=stopwords, ngram_range=(1, 2))\n",
        "X = tfidf.fit_transform(ngrams_)\n",
        "df1 = pd.DataFrame(X.toarray(), columns=tfidf.get_feature_names())"
      ],
      "execution_count": 55,
      "outputs": []
    },
    {
      "cell_type": "code",
      "metadata": {
        "id": "7rw2lvuA01Pz"
      },
      "source": [
        "df_sort =None\n",
        "df_sort = df1.T.sum(axis=1)"
      ],
      "execution_count": 56,
      "outputs": []
    },
    {
      "cell_type": "code",
      "metadata": {
        "id": "jDC5UWaJ1b1N"
      },
      "source": [
        "df_sort.to_csv(\"worldCloud.csv\")"
      ],
      "execution_count": 122,
      "outputs": []
    },
    {
      "cell_type": "code",
      "metadata": {
        "colab": {
          "base_uri": "https://localhost:8080/"
        },
        "id": "BvudEcrE1Xw6",
        "outputId": "04be861a-70a3-4518-ccc4-f3843f825656"
      },
      "source": [
        "df_sort.sort_values(ascending=False)[0:30]           \n"
      ],
      "execution_count": 57,
      "outputs": [
        {
          "output_type": "execute_result",
          "data": {
            "text/plain": [
              "learning_systems                        1053.235072\n",
              "artificial_intelligence                  811.651610\n",
              "machine_learning                         749.646156\n",
              "learning_algorithms                      656.023589\n",
              "support_vector_machines                  518.821294\n",
              "data_mining                              382.792574\n",
              "learning_algorithms learning_systems     343.084439\n",
              "neural_networks                          340.532196\n",
              "feature_extraction                       318.079035\n",
              "machine_learning_techniques              316.532246\n",
              "extreme_learning_machine                 314.505794\n",
              "deep_learning                            272.662479\n",
              "decision_trees                           269.958556\n",
              "knowledge_acquisition                    248.096097\n",
              "regression_analysis                      231.943538\n",
              "support_vector_machine                   226.590632\n",
              "machine_learning_methods                 222.325618\n",
              "supervised_learning                      210.627050\n",
              "pattern_recognition                      207.786414\n",
              "semantics                                192.448156\n",
              "clustering_algorithms                    174.360688\n",
              "classification_accuracy                  170.193594\n",
              "artificial_neural_network                168.332303\n",
              "machine_learning_approaches              159.904830\n",
              "decision_making                          155.849856\n",
              "classifier                               155.491465\n",
              "computer_simulation                      151.926388\n",
              "iterative_methods                        146.693126\n",
              "genetic_algorithms                       142.686684\n",
              "data_sets                                142.197445\n",
              "dtype: float64"
            ]
          },
          "metadata": {
            "tags": []
          },
          "execution_count": 57
        }
      ]
    },
    {
      "cell_type": "code",
      "metadata": {
        "colab": {
          "base_uri": "https://localhost:8080/"
        },
        "id": "i0P6W1cDHoH6",
        "outputId": "76a3a78a-8513-4594-8766-3dd06204faf2"
      },
      "source": [
        "tf_idf_df = df_sort.sort_values(ascending=False)[:30].index.tolist()\n",
        "tf_idf_df"
      ],
      "execution_count": 115,
      "outputs": [
        {
          "output_type": "execute_result",
          "data": {
            "text/plain": [
              "['text_processing',\n",
              " 'face_recognition',\n",
              " 'image_classification',\n",
              " 'software',\n",
              " 'problem_solving',\n",
              " 'image_retrieval',\n",
              " 'methodology',\n",
              " 'complex_networks',\n",
              " 'accuracy',\n",
              " 'information_retrieval',\n",
              " 'behavioral_research',\n",
              " 'speech_recognition',\n",
              " 'scheduling',\n",
              " 'nearest_neighbor_search',\n",
              " 'learning_algorithm',\n",
              " 'evolutionary_algorithms',\n",
              " 'extraction',\n",
              " 'stochastic_systems',\n",
              " 'convolution',\n",
              " 'image_analysis',\n",
              " 'sensitivity_and_specificity',\n",
              " 'convolutional_neural_network',\n",
              " 'matrix_algebra',\n",
              " 'network_layers',\n",
              " 'probability',\n",
              " 'chemistry',\n",
              " 'state_of_the_art',\n",
              " 'quality_control',\n",
              " 'generalization_performance',\n",
              " 'animal']"
            ]
          },
          "metadata": {
            "tags": []
          },
          "execution_count": 115
        }
      ]
    },
    {
      "cell_type": "code",
      "metadata": {
        "colab": {
          "base_uri": "https://localhost:8080/"
        },
        "id": "bjwERLkfkyH4",
        "outputId": "563de10a-7005-44c4-fdaa-cc5dd21e4416"
      },
      "source": [
        "df2_not_na[\"abstract_spacy\"] = None\n",
        "df2_not_na[\"abstract_spacy\"] = ngrams_"
      ],
      "execution_count": 61,
      "outputs": [
        {
          "output_type": "stream",
          "text": [
            "/usr/local/lib/python3.6/dist-packages/ipykernel_launcher.py:1: SettingWithCopyWarning: \n",
            "A value is trying to be set on a copy of a slice from a DataFrame.\n",
            "Try using .loc[row_indexer,col_indexer] = value instead\n",
            "\n",
            "See the caveats in the documentation: https://pandas.pydata.org/pandas-docs/stable/user_guide/indexing.html#returning-a-view-versus-a-copy\n",
            "  \"\"\"Entry point for launching an IPython kernel.\n",
            "/usr/local/lib/python3.6/dist-packages/ipykernel_launcher.py:2: SettingWithCopyWarning: \n",
            "A value is trying to be set on a copy of a slice from a DataFrame.\n",
            "Try using .loc[row_indexer,col_indexer] = value instead\n",
            "\n",
            "See the caveats in the documentation: https://pandas.pydata.org/pandas-docs/stable/user_guide/indexing.html#returning-a-view-versus-a-copy\n",
            "  \n"
          ],
          "name": "stderr"
        }
      ]
    },
    {
      "cell_type": "code",
      "metadata": {
        "id": "AUslKmnux_gu"
      },
      "source": [
        "corpus_abstract = None\n",
        "corpus_abstract = df2_not_na[\"abstract_spacy\"].str.split(\",\")"
      ],
      "execution_count": 82,
      "outputs": []
    },
    {
      "cell_type": "code",
      "metadata": {
        "colab": {
          "base_uri": "https://localhost:8080/"
        },
        "id": "TOI-FulmnNlX",
        "outputId": "33a9bc41-6304-454b-acdb-74926ff52139"
      },
      "source": [
        "from gensim.models import FastText\n",
        "%time ft_model_cb = FastText(sg=0, sentences=corpus_abstract, size=10, window=5, min_count=10, iter=5, min_n=5, max_n=6)\n",
        "%time ft_model_sg = FastText(sg=0, sentences=corpus_abstract, size=10, window=4, min_count=10, iter=5, min_n=5, max_n=6)"
      ],
      "execution_count": 84,
      "outputs": [
        {
          "output_type": "stream",
          "text": [
            "CPU times: user 15.6 s, sys: 46.6 ms, total: 15.7 s\n",
            "Wall time: 8.8 s\n",
            "CPU times: user 14.1 s, sys: 47.8 ms, total: 14.1 s\n",
            "Wall time: 8 s\n"
          ],
          "name": "stdout"
        }
      ]
    },
    {
      "cell_type": "code",
      "metadata": {
        "id": "lUxIWSDymihA"
      },
      "source": [
        "from gensim.models import KeyedVectors \n",
        "ft_model_cb.wv.save_word2vec_format('ft_model_cb.vec', binary=False)\n",
        "ft_model_sg.wv.save_word2vec_format('ft_model_sg.vec', binary=False)"
      ],
      "execution_count": 104,
      "outputs": []
    },
    {
      "cell_type": "markdown",
      "metadata": {
        "id": "4dQvsoS0ZsU7"
      },
      "source": [
        "#### import w2v and fastText and train a vector model"
      ]
    },
    {
      "cell_type": "code",
      "metadata": {
        "id": "tYt0Ir1UZsVL"
      },
      "source": [
        "from gensim.models import FastText\n",
        "\n",
        "models = []\n",
        "for i in range(5,6):\n",
        "  model_name_cb = \"ft_model_cb_\"+str(i)+'.vec'\n",
        "  model_name_sg = \"ft_model_sg_\"+str(i)+'.vec'\n",
        "  model_name_cb = FastText(sg=0, sentences=corpus_abstract, size=10, window=i, min_count=5, iter=5, min_n=5, max_n=6)\n",
        "  model_name_sg = FastText(sg=1, sentences=corpus_abstract, size=10, window=i, min_count=5, iter=5, min_n=5, max_n=6)\n",
        "  models.append(model_name_cb)\n",
        "  models.append(model_name_sg)\n",
        "  ft_model.wv.save_word2vec_format(model_name_cb, binary=False)\n",
        "  ft_model.wv.save_word2vec_format(model_name_sg, binary=False)\n"
      ],
      "execution_count": null,
      "outputs": []
    },
    {
      "cell_type": "markdown",
      "metadata": {
        "id": "gT752xVoZsVc"
      },
      "source": [
        "#### Save Model to File"
      ]
    },
    {
      "cell_type": "code",
      "metadata": {
        "colab": {
          "base_uri": "https://localhost:8080/"
        },
        "id": "DKrNpz1gLYfU",
        "outputId": "d07db83f-d920-4096-cdb5-77e059ff3e35"
      },
      "source": [
        "ft_model_cb.most_similar('machine_learning', topn = 3)\n"
      ],
      "execution_count": 89,
      "outputs": [
        {
          "output_type": "stream",
          "text": [
            "/usr/local/lib/python3.6/dist-packages/ipykernel_launcher.py:2: DeprecationWarning: Call to deprecated `most_similar` (Method will be removed in 4.0.0, use self.wv.most_similar() instead).\n",
            "  \n",
            "/usr/local/lib/python3.6/dist-packages/gensim/matutils.py:737: FutureWarning: Conversion of the second argument of issubdtype from `int` to `np.signedinteger` is deprecated. In future, it will be treated as `np.int64 == np.dtype(int).type`.\n",
            "  if np.issubdtype(vec.dtype, np.int):\n"
          ],
          "name": "stderr"
        },
        {
          "output_type": "execute_result",
          "data": {
            "text/plain": [
              "[('applied_machine_learning', 0.9698399305343628),\n",
              " ('hybrid_machine_learning', 0.9392151832580566),\n",
              " ('learning_automata', 0.9099183678627014)]"
            ]
          },
          "metadata": {
            "tags": []
          },
          "execution_count": 89
        }
      ]
    },
    {
      "cell_type": "code",
      "metadata": {
        "colab": {
          "base_uri": "https://localhost:8080/"
        },
        "id": "whH70yQVxkYG",
        "outputId": "dff7a385-ce27-4057-898c-48b2d4a8ba69"
      },
      "source": [
        "ft_model_sg.most_similar('machine_learning', topn = 3)"
      ],
      "execution_count": 117,
      "outputs": [
        {
          "output_type": "stream",
          "text": [
            "/usr/local/lib/python3.6/dist-packages/ipykernel_launcher.py:1: DeprecationWarning: Call to deprecated `most_similar` (Method will be removed in 4.0.0, use self.wv.most_similar() instead).\n",
            "  \"\"\"Entry point for launching an IPython kernel.\n",
            "/usr/local/lib/python3.6/dist-packages/gensim/matutils.py:737: FutureWarning: Conversion of the second argument of issubdtype from `int` to `np.signedinteger` is deprecated. In future, it will be treated as `np.int64 == np.dtype(int).type`.\n",
            "  if np.issubdtype(vec.dtype, np.int):\n"
          ],
          "name": "stderr"
        },
        {
          "output_type": "execute_result",
          "data": {
            "text/plain": [
              "[('applied_machine_learning', 0.9698399305343628),\n",
              " ('hybrid_machine_learning', 0.9392151832580566),\n",
              " ('learning_automata', 0.9099183678627014)]"
            ]
          },
          "metadata": {
            "tags": []
          },
          "execution_count": 117
        }
      ]
    },
    {
      "cell_type": "code",
      "metadata": {
        "id": "20sQa0woyrg5"
      },
      "source": [
        "output_list = []\n",
        "for i in tf_idf_df:\n",
        "  for j in range(0,3):\n",
        "    output_list.append(ft_model_cb.most_similar(i, topn = 3)[j][0])\n",
        "  output_list.append(i)"
      ],
      "execution_count": null,
      "outputs": []
    },
    {
      "cell_type": "code",
      "metadata": {
        "colab": {
          "base_uri": "https://localhost:8080/"
        },
        "id": "4OWX9ft4mEfz",
        "outputId": "4dbba7f0-55d3-44ee-a4b7-0c553fc8762b"
      },
      "source": [
        "output_list"
      ],
      "execution_count": 91,
      "outputs": [
        {
          "output_type": "execute_result",
          "data": {
            "text/plain": [
              "['knowledge_transfer',\n",
              " 'hierarchical_systems',\n",
              " 'network_routing',\n",
              " 'learning_systems',\n",
              " 'artificial_intelligent',\n",
              " 'automata_theory',\n",
              " 'computer_science',\n",
              " 'artificial_intelligence',\n",
              " 'applied_machine_learning',\n",
              " 'hybrid_machine_learning',\n",
              " 'machine_learning_literature',\n",
              " 'machine_learning',\n",
              " 'online_learning_algorithms',\n",
              " 'training_algorithms',\n",
              " 'machine_learning_algorithms',\n",
              " 'learning_algorithms',\n",
              " 'twin_support_vector_machines',\n",
              " 'proximal_support_vector_machines',\n",
              " 'support_vector_machine_(svms)',\n",
              " 'support_vector_machines',\n",
              " 'bioinformatics',\n",
              " 'web_mining',\n",
              " 'mining',\n",
              " 'data_mining',\n",
              " 'learning_algorithms',\n",
              " 'trees_(mathematics)',\n",
              " 'mathematical_transformations',\n",
              " 'learning_algorithms learning_systems',\n",
              " 'bp_neural_networks',\n",
              " 'spiking_neural_networks',\n",
              " 'wavelet_neural_networks',\n",
              " 'neural_networks',\n",
              " 'features_extraction',\n",
              " 'feature_extractor',\n",
              " 'extracting_features',\n",
              " 'feature_extraction',\n",
              " 'machine_learning_approaches',\n",
              " 'machine_learning_communities',\n",
              " 'machine_learning_models',\n",
              " 'machine_learning_techniques',\n",
              " 'incremental_extreme_learning_machine',\n",
              " 'online_sequential_extreme_learning_machine',\n",
              " 'learning_machines',\n",
              " 'extreme_learning_machine',\n",
              " 'ontology_learning',\n",
              " 'robot_learning',\n",
              " 'e_learning',\n",
              " 'deep_learning',\n",
              " 'boosted_decision_trees',\n",
              " 'decision_rules',\n",
              " 'decision_makers',\n",
              " 'decision_trees',\n",
              " 'data_acquisition',\n",
              " 'error',\n",
              " 'adaptive_control',\n",
              " 'knowledge_acquisition',\n",
              " 'linear_regression_analysis',\n",
              " 'logistic_regression_analysis',\n",
              " 'time_series_analysis',\n",
              " 'regression_analysis',\n",
              " 'transductive_support_vector_machine',\n",
              " 'support_vector_machine_method',\n",
              " 'svm(support_vector_machine)',\n",
              " 'support_vector_machine',\n",
              " 'three_machine_learning_methods',\n",
              " 'state_of_the_art_machine_learning_methods',\n",
              " 'ensemble_learning',\n",
              " 'machine_learning_methods',\n",
              " 'unsupervised_learning',\n",
              " 'weakly_supervised_learning',\n",
              " 'semi__supervised_learning',\n",
              " 'supervised_learning',\n",
              " 'pattern_recognition_visual',\n",
              " 'cognition',\n",
              " 'scene_recognition',\n",
              " 'pattern_recognition',\n",
              " 'semantic_web',\n",
              " 'semantic_gap',\n",
              " 'natural_language_processing_systems',\n",
              " 'semantics',\n",
              " 'fuzzy_c_means_clustering_algorithms',\n",
              " 'hybrid_algorithms',\n",
              " 'scalable_algorithms',\n",
              " 'clustering_algorithms',\n",
              " 'classification_errors',\n",
              " 'nearest_neighbor_classifier',\n",
              " 'classification_error_rate',\n",
              " 'classification_accuracy',\n",
              " 'artificial_neural_network_models',\n",
              " 'artificial_neural_networks',\n",
              " 'fully_connected_neural_network',\n",
              " 'artificial_neural_network',\n",
              " 'machine_learning_communities',\n",
              " 'machine_learning_techniques',\n",
              " 'machine_learning_models',\n",
              " 'machine_learning_approaches',\n",
              " 'decision_makers',\n",
              " 'decision_trees',\n",
              " 'decision_tables',\n",
              " 'decision_making',\n",
              " 'bayesian_classifier',\n",
              " 'classifier_design',\n",
              " 'bayes_classifier',\n",
              " 'classifier',\n",
              " 'computer_model',\n",
              " 'theorem_proving',\n",
              " 'bayes_theorem',\n",
              " 'computer_simulation',\n",
              " 'gradient_methods',\n",
              " 'approximation_methods',\n",
              " 'phase_space_methods',\n",
              " 'iterative_methods',\n",
              " 'artificial_bee_colony_algorithms',\n",
              " 'fuzzy_c_means_algorithms',\n",
              " 'elm_algorithms',\n",
              " 'genetic_algorithms',\n",
              " 'small_data_set',\n",
              " 'real_data_sets',\n",
              " 'data_set',\n",
              " 'data_sets']"
            ]
          },
          "metadata": {
            "tags": []
          },
          "execution_count": 91
        }
      ]
    },
    {
      "cell_type": "code",
      "metadata": {
        "id": "OOgNQGz50LY-"
      },
      "source": [
        "import pandas as pd\n",
        "import math\n",
        "\n",
        "def tranform(z):\n",
        "    return math.floor(z / 4)\n",
        "\n",
        "out_df = pd.DataFrame(output_list, columns=[\"word\"])\n",
        "out_df[\"index\"] = out_df.index\n",
        "out_df[\"cat\"] = out_df[\"index\"].apply(lambda x: tranform(x))\n"
      ],
      "execution_count": 92,
      "outputs": []
    },
    {
      "cell_type": "code",
      "metadata": {
        "colab": {
          "base_uri": "https://localhost:8080/"
        },
        "id": "mF7UHnbs5txx",
        "outputId": "4302a6fd-5b62-44e3-ad49-f6d650e9b1e6"
      },
      "source": [
        "from gensim.models import KeyedVectors \n",
        "import os\n",
        "from sklearn.metrics import silhouette_score\n",
        "\n",
        "wn = out_df\n",
        "with open ('silhouette_grid.csv', 'w') as file:\n",
        "    file.write('model,silhouette\\n')\n",
        "    for filename in os.listdir('model'):\n",
        "      model = KeyedVectors.load_word2vec_format('model/'+filename, binary=False)\n",
        "      in_vocab = [True if word in model.wv.vocab else False for word in wn.word]\n",
        "      wn['in_vocab'] = in_vocab\n",
        "      wn_in_vocab = wn[wn['in_vocab']==True]\n",
        "      vectors = [model[i] for i in wn_in_vocab['word']]\n",
        "      sil = silhouette_score(vectors, wn_in_vocab['cat'])\n",
        "      print(f'{filename}: sil={sil}')\n",
        "      file.write(f'{filename},{sil}\\n')\n",
        "file.close()"
      ],
      "execution_count": 118,
      "outputs": [
        {
          "output_type": "stream",
          "text": [
            "ft_model_cb.vec: sil=0.234257772564888\n",
            "ft_model_sg.vec: sil=0.22233004868030548\n"
          ],
          "name": "stdout"
        },
        {
          "output_type": "stream",
          "text": [
            "/usr/local/lib/python3.6/dist-packages/ipykernel_launcher.py:11: DeprecationWarning: Call to deprecated `wv` (Attribute will be removed in 4.0.0, use self instead).\n",
            "  # This is added back by InteractiveShellApp.init_path()\n",
            "/usr/local/lib/python3.6/dist-packages/ipykernel_launcher.py:11: DeprecationWarning: Call to deprecated `wv` (Attribute will be removed in 4.0.0, use self instead).\n",
            "  # This is added back by InteractiveShellApp.init_path()\n"
          ],
          "name": "stderr"
        }
      ]
    },
    {
      "cell_type": "markdown",
      "metadata": {
        "id": "4PXEpRe7AzET"
      },
      "source": [
        "es. per la sw analyst trovo parole che non esistono nella tassonomia come \"application support engineer\" lo score è una media tra la cosine similarity e quante volte appare negli annunci\n",
        "\n",
        "> Blocco con rientro\n",
        "\n"
      ]
    },
    {
      "cell_type": "markdown",
      "metadata": {
        "id": "n5hNXP1KZsWz"
      },
      "source": [
        "### Visualise embeddings with UMAP"
      ]
    },
    {
      "cell_type": "markdown",
      "metadata": {
        "id": "N5FXZRqUZsW1"
      },
      "source": [
        "[UMAP](https://umap-learn.readthedocs.io/en/latest/): Uniform Manifold Approximation and Projection for Dimension Reduction"
      ]
    },
    {
      "cell_type": "code",
      "metadata": {
        "id": "PHbaYPVeZsW6",
        "colab": {
          "base_uri": "https://localhost:8080/"
        },
        "outputId": "5e82475c-8624-482c-d42d-258731df9879"
      },
      "source": [
        "# !conda install -c conda-forge umap-learn\n",
        "!pip install umap-learn"
      ],
      "execution_count": 97,
      "outputs": [
        {
          "output_type": "stream",
          "text": [
            "Requirement already satisfied: umap-learn in /usr/local/lib/python3.6/dist-packages (0.4.6)\n",
            "Requirement already satisfied: numba!=0.47,>=0.46 in /usr/local/lib/python3.6/dist-packages (from umap-learn) (0.48.0)\n",
            "Requirement already satisfied: scikit-learn>=0.20 in /usr/local/lib/python3.6/dist-packages (from umap-learn) (0.22.2.post1)\n",
            "Requirement already satisfied: numpy>=1.17 in /usr/local/lib/python3.6/dist-packages (from umap-learn) (1.18.5)\n",
            "Requirement already satisfied: scipy>=1.3.1 in /usr/local/lib/python3.6/dist-packages (from umap-learn) (1.4.1)\n",
            "Requirement already satisfied: llvmlite<0.32.0,>=0.31.0dev0 in /usr/local/lib/python3.6/dist-packages (from numba!=0.47,>=0.46->umap-learn) (0.31.0)\n",
            "Requirement already satisfied: setuptools in /usr/local/lib/python3.6/dist-packages (from numba!=0.47,>=0.46->umap-learn) (50.3.2)\n",
            "Requirement already satisfied: joblib>=0.11 in /usr/local/lib/python3.6/dist-packages (from scikit-learn>=0.20->umap-learn) (0.17.0)\n"
          ],
          "name": "stdout"
        }
      ]
    },
    {
      "cell_type": "markdown",
      "metadata": {
        "id": "ZJfFSDGeZsXB"
      },
      "source": [
        "#### Define a function to restrict vocab to keywords to speed up UMap"
      ]
    },
    {
      "cell_type": "code",
      "metadata": {
        "id": "OVrfcWsnZsXC"
      },
      "source": [
        " def restrict_w2v(w2v, restricted_word_set):\n",
        "    w2v.most_similar(list(restricted_word_set)[0]) #to inizialize norms\n",
        "    new_vectors = []\n",
        "    new_vocab = {}\n",
        "    new_index2entity = []\n",
        "    new_vectors_norm = []\n",
        "\n",
        "    for i in range(len(w2v.vocab)):\n",
        "        word = w2v.index2entity[i]\n",
        "        vec = w2v.vectors[i]\n",
        "        vocab = w2v.vocab[word]\n",
        "        vec_norm = w2v.vectors_norm[i]\n",
        "        if word in restricted_word_set:\n",
        "            vocab.index = len(new_index2entity)\n",
        "            new_index2entity.append(word)\n",
        "            new_vocab[word] = vocab\n",
        "            new_vectors.append(vec)\n",
        "            new_vectors_norm.append(vec_norm)\n",
        "\n",
        "    w2v.vocab = new_vocab\n",
        "    w2v.vectors = np.array(new_vectors)\n",
        "    w2v.index2entity = np.array(new_index2entity)\n",
        "    w2v.index2word = np.array(new_index2entity)\n",
        "    w2v.vectors_norm = np.array(new_vectors_norm)"
      ],
      "execution_count": 99,
      "outputs": []
    },
    {
      "cell_type": "markdown",
      "metadata": {
        "id": "muJ65DpNZsXc"
      },
      "source": [
        "#### Create umap of your vocab"
      ]
    },
    {
      "cell_type": "markdown",
      "metadata": {
        "id": "W3lPDbRqZsXn"
      },
      "source": [
        "### plot worndet by category"
      ]
    },
    {
      "cell_type": "code",
      "metadata": {
        "id": "SpCeH8xotlkX"
      },
      "source": [
        "words_categories = out_df\n",
        "words_categories.to_csv(\"words_categories.csv\", index= False)"
      ],
      "execution_count": 114,
      "outputs": []
    },
    {
      "cell_type": "code",
      "metadata": {
        "id": "cDtWAYp9ZsXp"
      },
      "source": [
        "#wn_plot = pd.read_csv('output_list_cat5.csv',\";\")\n",
        "wn_plot = out_df\n",
        "ft_imported_model = KeyedVectors.load_word2vec_format('models/ft_model_cb.vec', binary=False)"
      ],
      "execution_count": 108,
      "outputs": []
    },
    {
      "cell_type": "code",
      "metadata": {
        "id": "XEr4WdJSZsXu",
        "colab": {
          "base_uri": "https://localhost:8080/",
          "height": 774
        },
        "outputId": "bc04248e-3274-4199-cc49-435e059cf74b"
      },
      "source": [
        "!pip install adjustText\n",
        "import numpy as np\n",
        "import matplotlib.pyplot as plt\n",
        "import matplotlib\n",
        "import random\n",
        "from adjustText import adjust_text\n",
        "random.seed(42)\n",
        "plt.rcParams['figure.figsize'] = 25, 12\n",
        "\n",
        "import umap\n",
        "\n",
        "import numpy as np\n",
        "def train_umap(model):\n",
        "    random.seed(42)\n",
        "    np.random.seed(42)\n",
        "    X = model[model.wv.vocab]\n",
        "    reducer = umap.UMAP(n_neighbors=200, metric='cosine', learning_rate=0.01,\n",
        "                        n_epochs=2000, spread=5, min_dist=0.5, random_state=42)\n",
        "    X = model[model.wv.vocab]\n",
        "    embedding = reducer.fit_transform(X)\n",
        "\n",
        "    df = pd.DataFrame(embedding)\n",
        "    df['token'] = model.wv.vocab\n",
        "    df.columns  = ['x', 'y', 'token']\n",
        "    return df\n",
        "\n",
        "\n",
        "word_set = {w for w in output_list if w in ft_imported_model.vocab}\n",
        "restrict_w2v(ft_imported_model, word_set)\n",
        "wn_umap = train_umap(ft_imported_model)\n",
        "wn_umap\n",
        "\n"
      ],
      "execution_count": 109,
      "outputs": [
        {
          "output_type": "stream",
          "text": [
            "Requirement already satisfied: adjustText in /usr/local/lib/python3.6/dist-packages (0.7.3)\n",
            "Requirement already satisfied: matplotlib in /usr/local/lib/python3.6/dist-packages (from adjustText) (3.2.2)\n",
            "Requirement already satisfied: numpy in /usr/local/lib/python3.6/dist-packages (from adjustText) (1.18.5)\n",
            "Requirement already satisfied: kiwisolver>=1.0.1 in /usr/local/lib/python3.6/dist-packages (from matplotlib->adjustText) (1.3.1)\n",
            "Requirement already satisfied: python-dateutil>=2.1 in /usr/local/lib/python3.6/dist-packages (from matplotlib->adjustText) (2.8.1)\n",
            "Requirement already satisfied: pyparsing!=2.0.4,!=2.1.2,!=2.1.6,>=2.0.1 in /usr/local/lib/python3.6/dist-packages (from matplotlib->adjustText) (2.4.7)\n",
            "Requirement already satisfied: cycler>=0.10 in /usr/local/lib/python3.6/dist-packages (from matplotlib->adjustText) (0.10.0)\n",
            "Requirement already satisfied: six>=1.5 in /usr/local/lib/python3.6/dist-packages (from python-dateutil>=2.1->matplotlib->adjustText) (1.15.0)\n"
          ],
          "name": "stdout"
        },
        {
          "output_type": "stream",
          "text": [
            "/usr/local/lib/python3.6/dist-packages/gensim/matutils.py:737: FutureWarning: Conversion of the second argument of issubdtype from `int` to `np.signedinteger` is deprecated. In future, it will be treated as `np.int64 == np.dtype(int).type`.\n",
            "  if np.issubdtype(vec.dtype, np.int):\n",
            "/usr/local/lib/python3.6/dist-packages/ipykernel_launcher.py:16: DeprecationWarning: Call to deprecated `wv` (Attribute will be removed in 4.0.0, use self instead).\n",
            "  app.launch_new_instance()\n",
            "/usr/local/lib/python3.6/dist-packages/ipykernel_launcher.py:19: DeprecationWarning: Call to deprecated `wv` (Attribute will be removed in 4.0.0, use self instead).\n",
            "/usr/local/lib/python3.6/dist-packages/umap/umap_.py:1158: RuntimeWarning: divide by zero encountered in power\n",
            "  return 1.0 / (1.0 + a * x ** (2 * b))\n",
            "/usr/local/lib/python3.6/dist-packages/umap/umap_.py:1679: UserWarning: n_neighbors is larger than the dataset size; truncating to X.shape[0] - 1\n",
            "  \"n_neighbors is larger than the dataset size; truncating to \"\n",
            "/usr/local/lib/python3.6/dist-packages/ipykernel_launcher.py:23: DeprecationWarning: Call to deprecated `wv` (Attribute will be removed in 4.0.0, use self instead).\n"
          ],
          "name": "stderr"
        },
        {
          "output_type": "execute_result",
          "data": {
            "text/html": [
              "<div>\n",
              "<style scoped>\n",
              "    .dataframe tbody tr th:only-of-type {\n",
              "        vertical-align: middle;\n",
              "    }\n",
              "\n",
              "    .dataframe tbody tr th {\n",
              "        vertical-align: top;\n",
              "    }\n",
              "\n",
              "    .dataframe thead th {\n",
              "        text-align: right;\n",
              "    }\n",
              "</style>\n",
              "<table border=\"1\" class=\"dataframe\">\n",
              "  <thead>\n",
              "    <tr style=\"text-align: right;\">\n",
              "      <th></th>\n",
              "      <th>x</th>\n",
              "      <th>y</th>\n",
              "      <th>token</th>\n",
              "    </tr>\n",
              "  </thead>\n",
              "  <tbody>\n",
              "    <tr>\n",
              "      <th>0</th>\n",
              "      <td>2.625470</td>\n",
              "      <td>10.371402</td>\n",
              "      <td>learning_systems</td>\n",
              "    </tr>\n",
              "    <tr>\n",
              "      <th>1</th>\n",
              "      <td>-5.299540</td>\n",
              "      <td>-2.851789</td>\n",
              "      <td>artificial_intelligence</td>\n",
              "    </tr>\n",
              "    <tr>\n",
              "      <th>2</th>\n",
              "      <td>16.011192</td>\n",
              "      <td>6.363476</td>\n",
              "      <td>machine_learning</td>\n",
              "    </tr>\n",
              "    <tr>\n",
              "      <th>3</th>\n",
              "      <td>5.680719</td>\n",
              "      <td>14.882143</td>\n",
              "      <td>learning_algorithms</td>\n",
              "    </tr>\n",
              "    <tr>\n",
              "      <th>4</th>\n",
              "      <td>6.248384</td>\n",
              "      <td>-2.703637</td>\n",
              "      <td>support_vector_machines</td>\n",
              "    </tr>\n",
              "    <tr>\n",
              "      <th>...</th>\n",
              "      <td>...</td>\n",
              "      <td>...</td>\n",
              "      <td>...</td>\n",
              "    </tr>\n",
              "    <tr>\n",
              "      <th>107</th>\n",
              "      <td>1.825787</td>\n",
              "      <td>15.137861</td>\n",
              "      <td>fuzzy_c_means_clustering_algorithms</td>\n",
              "    </tr>\n",
              "    <tr>\n",
              "      <th>108</th>\n",
              "      <td>2.625282</td>\n",
              "      <td>16.071985</td>\n",
              "      <td>scalable_algorithms</td>\n",
              "    </tr>\n",
              "    <tr>\n",
              "      <th>109</th>\n",
              "      <td>-4.936157</td>\n",
              "      <td>1.074312</td>\n",
              "      <td>boosted_decision_trees</td>\n",
              "    </tr>\n",
              "    <tr>\n",
              "      <th>110</th>\n",
              "      <td>5.890607</td>\n",
              "      <td>5.702841</td>\n",
              "      <td>fully_connected_neural_network</td>\n",
              "    </tr>\n",
              "    <tr>\n",
              "      <th>111</th>\n",
              "      <td>7.921499</td>\n",
              "      <td>1.746467</td>\n",
              "      <td>scene_recognition</td>\n",
              "    </tr>\n",
              "  </tbody>\n",
              "</table>\n",
              "<p>112 rows × 3 columns</p>\n",
              "</div>"
            ],
            "text/plain": [
              "             x          y                                token\n",
              "0     2.625470  10.371402                     learning_systems\n",
              "1    -5.299540  -2.851789              artificial_intelligence\n",
              "2    16.011192   6.363476                     machine_learning\n",
              "3     5.680719  14.882143                  learning_algorithms\n",
              "4     6.248384  -2.703637              support_vector_machines\n",
              "..         ...        ...                                  ...\n",
              "107   1.825787  15.137861  fuzzy_c_means_clustering_algorithms\n",
              "108   2.625282  16.071985                  scalable_algorithms\n",
              "109  -4.936157   1.074312               boosted_decision_trees\n",
              "110   5.890607   5.702841       fully_connected_neural_network\n",
              "111   7.921499   1.746467                    scene_recognition\n",
              "\n",
              "[112 rows x 3 columns]"
            ]
          },
          "metadata": {
            "tags": []
          },
          "execution_count": 109
        }
      ]
    },
    {
      "cell_type": "code",
      "metadata": {
        "id": "btvDNctvZsX0"
      },
      "source": [
        "import matplotlib\n",
        "from matplotlib.pyplot import cm\n",
        "\n",
        "cat_unique = list(wn_plot.cat.unique())\n",
        "n_cat = len(cat_unique)\n",
        "\n",
        "markers = [\".\", \"o\" ,\"v\" , \"x\" , \"+\" , \"1\" , \"d\" , \"h\" , \"|\" , \"8\" , \"s\" , \"p\" , \"P\" , \"*\" , \">\" ,\n",
        "           \"3\" , \"H\" , \"<\" , \"^\" , \"X\" , \"D\" , \"2\" , \"4\" , \"_\", \"D\", \"d\", \"X\", \",\",\"o\",\"v\",\"1\",\"x\"]\n",
        "\n",
        "\n",
        "markers = markers[:n_cat-1]\n",
        "    \n",
        "colors = list(matplotlib.colors.cnames.keys())\n",
        "colors=cm.rainbow(np.linspace(0,1,n_cat))"
      ],
      "execution_count": 111,
      "outputs": []
    },
    {
      "cell_type": "code",
      "metadata": {
        "id": "aL0vK4CpZsX5",
        "colab": {
          "base_uri": "https://localhost:8080/",
          "height": 716
        },
        "outputId": "ea9a9e3d-d343-408c-cc89-beaa9cbfcd95"
      },
      "source": [
        "text = []\n",
        "for cat, color, marker in zip(cat_unique, colors, markers):\n",
        "    keys = wn_plot['word'][wn_plot['cat'] == cat].values\n",
        "    top_tfidf_words = wn_umap[wn_umap['token'].isin(keys)]\n",
        "    if not top_tfidf_words.empty:\n",
        "        i = 0\n",
        "        for index,row in top_tfidf_words.iterrows():\n",
        "            i+=1 #alpha quanto è trasp il colore,e per label\n",
        "            plt.scatter(row['x'], row['y'], c=np.array([color]), alpha=0.7, label=cat if i == 1 else \"\", \n",
        "                        marker=marker, s=100, edgecolors='black')\n",
        "            text.append(plt.annotate(row['token'], alpha=0.6, xy=(row['x'], row['y']), ha='right', va='bottom', size=9))\n",
        "# adjust_text(text)\n",
        "plt.legend(fontsize='small', loc=2)\n",
        "plt.title('Wordnet categories')\n",
        "fig1 = plt.gcf()\n",
        "plt.show()"
      ],
      "execution_count": 126,
      "outputs": [
        {
          "output_type": "display_data",
          "data": {
            "image/png": "[encoded data removed]",
            "text/plain": [
              "<Figure size 1800x864 with 1 Axes>"
            ]
          },
          "metadata": {
            "tags": [],
            "needs_background": "light"
          }
        }
      ]
    },
    {
      "cell_type": "code",
      "metadata": {
        "id": "phywck9CslFx"
      },
      "source": [
        ""
      ],
      "execution_count": null,
      "outputs": []
    },
    {
      "cell_type": "code",
      "metadata": {
        "colab": {
          "base_uri": "https://localhost:8080/",
          "height": 35
        },
        "id": "2O__poTL0587",
        "outputId": "4863c089-9641-43da-f1a5-f50a9ed3c0fc"
      },
      "source": [
        "plt.draw()\n",
        "fig1.savefig('WordnetCategorie.png', dpi=100)\n",
        "\n"
      ],
      "execution_count": 127,
      "outputs": [
        {
          "output_type": "display_data",
          "data": {
            "text/plain": [
              "<Figure size 1800x864 with 0 Axes>"
            ]
          },
          "metadata": {
            "tags": []
          }
        }
      ]
    },
    {
      "cell_type": "code",
      "metadata": {
        "id": "7sVSMET31Aud"
      },
      "source": [
        ""
      ],
      "execution_count": null,
      "outputs": []
    }
  ]
}